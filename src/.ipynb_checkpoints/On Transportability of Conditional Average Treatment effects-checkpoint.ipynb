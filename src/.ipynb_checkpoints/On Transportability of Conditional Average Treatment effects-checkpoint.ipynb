{
 "cells": [
  {
   "cell_type": "markdown",
   "metadata": {},
   "source": [
    "## On the transportability of Conditional Average Treatment Effects \n",
    "\n",
    "Leo Guelman\n",
    "\n",
    "July 2022"
   ]
  },
  {
   "cell_type": "markdown",
   "metadata": {},
   "source": [
    "## Introduction\n",
    "\n",
    "Many problems in statistics and causal inference can be framed as problems of generalizability. Consider as examples:\n",
    "\n",
    "1. **Classical statistical inference** is the process of generalizing properties from sampled data drawn from a population to properties of the population itself. https://link.springer.com/book/10.1007/978-0-387-46409-1\n",
    "\n",
    "2. **Statistical Transportability** (a.k.a. *dataset shift*, *domain adaptation*) departs from the traditional i.i.d. setting by allowing changes in distributions between training and testing and seeks to produce 'optimal' out-of-distribution generalizations in the absence of examples from the test task. [provide references, eg. Rojas]\n",
    "\n",
    "3. **Selection Bias** is a problem related to statistical transportability, but with important subtle differences. Here the problem is to infer statistical properties of a population from samples that have been selected preferentially, and where little is known about the underlying selection mechanism. [Heckman, ref]\n",
    "\n",
    "4. **Causal Inference** with observational data is the problem of generalizing causal-effect estimates from an observational regime to an experimental regime.[ref]\n",
    "\n",
    "5. **Causal Transportability** is the problem of inferring causal effects learned from experimental data to a new population in which only observational data are available. [ref]\n",
    "\n",
    "6. **Counterfactual Transportability** focuses on generalizing counterfactual distributions. This differs from statistical and causal transportability, which focuses on generalizing associational and interventional distributions. More specifically, causal transportability focuses on generalizing individual treatment effects (ITE) learned from experimental data to a new population in which only observational data are available. [ref]\n",
    "\n",
    "\n",
    "This paper focuses on Causal Transportability of the Conditional Average Treatment Effect (CATE), which has received little attention in the literature. Using the Neyman/Rubin Potential Outcome notation (see Imbens \\& Rubin, 2015), the CATE $\\tau(x)$ is defined as the following estimand:\n",
    "\n",
    "$$\n",
    "\\tau(x) \\triangleq \\mathbb{E}[Y_i(1) - Y_i(0) | X = x],\n",
    "$$\n",
    "\n",
    "where $Y_i(t)$ is the potential outcome of unit $i=\\{1, \\ldots, N\\}$ when exposed to treatment $T=t, \\forall t \\in \\{0,1\\}$.\n",
    "\n",
    "\n",
    "With the advent of \"personalization\" in medicine and business, there have been many proposed methods for estimating the CATE [references]. In practice, these CATE estimators produce estimates based on experimental data (e.g., from a randomized controlled trial). More often than not, the goal is to generalize empirical findings to new environments, settings or populations. For instance, in the context of personalized pricing, we might have estimated the effect of a price discount on demand as a function of consumer characteristics in City 1 from experimental data. Under what conditions are we licensed to transfer these estimates to City 2, where only observational data are available? Similarly, in a clinical trial setting, we might have learned estimates of the effect of drug treatment on a patient's clinical response as a function of patient characteristics in Hospital 1. Again, under what conditions can we transport this knowledge to Hospital 2, where we only have access to the observational distribution. \n",
    "\n",
    "The paper aims to introduce readers to the formal conditions under which CATEs in a target population can be inferred from experimental findings in the source population and provide practical guidance to Data Scientists for identifying and overcoming transportability issues in the CATE. "
   ]
  },
  {
   "cell_type": "markdown",
   "metadata": {},
   "source": [
    "## CATE Definition and Notation"
   ]
  },
  {
   "cell_type": "markdown",
   "metadata": {},
   "source": [
    "* Definition of CATE using Neyman and Do notation\n",
    "* Say this paper will stick to the do notation\n",
    "* Difference between CATE and ITE (ref Brady and Vegetaible paper)"
   ]
  },
  {
   "cell_type": "code",
   "execution_count": null,
   "metadata": {},
   "outputs": [],
   "source": []
  }
 ],
 "metadata": {
  "kernelspec": {
   "display_name": "Python 3",
   "language": "python",
   "name": "python3"
  },
  "language_info": {
   "codemirror_mode": {
    "name": "ipython",
    "version": 3
   },
   "file_extension": ".py",
   "mimetype": "text/x-python",
   "name": "python",
   "nbconvert_exporter": "python",
   "pygments_lexer": "ipython3",
   "version": "3.8.3"
  }
 },
 "nbformat": 4,
 "nbformat_minor": 4
}
